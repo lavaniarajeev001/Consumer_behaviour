{
 "cells": [
  {
   "cell_type": "code",
   "execution_count": 1,
   "id": "fb039299-1f9a-44d0-9f64-fed47efb6171",
   "metadata": {},
   "outputs": [],
   "source": [
    "import pandas as pd\n",
    "import numpy as np\n",
    "import seaborn as sns\n",
    "import matplotlib.pyplot as plt\n",
    "from sklearn.preprocessing import StandardScaler\n",
    "from sklearn.model_selection import train_test_split\n",
    "from tensorflow.keras.models import Sequential\n",
    "from tensorflow.keras.layers import Dense,Dropout\n",
    "from sklearn.linear_model import LinearRegression\n",
    "from sklearn.metrics import mean_absolute_error, mean_squared_error, r2_score\n",
    "import pickle"
   ]
  },
  {
   "cell_type": "code",
   "execution_count": 2,
   "id": "874b153d-aaf5-4a19-ba67-48f11aadd480",
   "metadata": {},
   "outputs": [],
   "source": [
    "def data():\n",
    "    df = pd.read_csv(\"Customer Purchasing Behaviors.csv\")\n",
    "    df.region=df.region.map({\"East\":1,\"West\":2,\"North\":3,\"South\":4})\n",
    "    df=df.drop([\"user_id\"],axis=1)\n",
    "    return df"
   ]
  },
  {
   "cell_type": "code",
   "execution_count": 3,
   "id": "55f5b74c-1c08-47fb-baf0-7a368eac9bfa",
   "metadata": {},
   "outputs": [],
   "source": [
    "def create_model():\n",
    "    df=data()\n",
    "    X=df[['age', 'annual_income', 'purchase_amount','region','purchase_frequency']]\n",
    "    y=y=df.loyalty_score\n",
    "    scaler=StandardScaler()\n",
    "    X_scaler=scaler.fit_transform(X)\n",
    "    X_train,X_test,y_train,y_test=train_test_split(X_scaler,y,test_size=0.30,random_state=42)\n",
    "    model=LinearRegression()\n",
    "    model.fit(X_train,y_train)\n",
    "    y_pred=model.predict(X_train)\n",
    "    return model,scaler"
   ]
  },
  {
   "cell_type": "code",
   "execution_count": 4,
   "id": "41797219-9674-42c7-9f4d-ed578bbeacaa",
   "metadata": {},
   "outputs": [],
   "source": [
    "def main():\n",
    "    df=data()\n",
    "    model,scaler=create_model()\n",
    "\n",
    "    with open(\"model.pkl\",\"wb\") as f:\n",
    "        pickle.dump(model,f)\n",
    "\n",
    "    with open(\"scaler.pkl\",\"wb\") as f:\n",
    "        pickle.dump(scaler,f)\n",
    "\n",
    "if __name__==\"__main__\":\n",
    "    main()\n",
    "    "
   ]
  },
  {
   "cell_type": "code",
   "execution_count": null,
   "id": "93a9d5c1-b6de-4a2f-a643-94f37544ee62",
   "metadata": {},
   "outputs": [],
   "source": []
  }
 ],
 "metadata": {
  "kernelspec": {
   "display_name": "Python 3 (ipykernel)",
   "language": "python",
   "name": "python3"
  },
  "language_info": {
   "codemirror_mode": {
    "name": "ipython",
    "version": 3
   },
   "file_extension": ".py",
   "mimetype": "text/x-python",
   "name": "python",
   "nbconvert_exporter": "python",
   "pygments_lexer": "ipython3",
   "version": "3.10.14"
  }
 },
 "nbformat": 4,
 "nbformat_minor": 5
}
